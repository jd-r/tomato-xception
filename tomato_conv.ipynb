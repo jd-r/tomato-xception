{
 "cells": [
  {
   "cell_type": "code",
   "execution_count": 0,
   "metadata": {
    "colab": {},
    "colab_type": "code",
    "id": "Af_Hz-vyU_8q"
   },
   "outputs": [],
   "source": [
    "import tensorflow as tf\n",
    "import numpy as np\n",
    "import os\n",
    "import matplotlib.pyplot as plt\n",
    "\n",
    "ImageDataGenerator =  tf.keras.preprocessing.image.ImageDataGenerator\n",
    "models = tf.keras.models\n",
    "layers = tf.keras.layers\n",
    "optimizers = tf.keras.optimizers"
   ]
  },
  {
   "cell_type": "code",
   "execution_count": 12,
   "metadata": {
    "colab": {
     "base_uri": "https://localhost:8080/",
     "height": 34
    },
    "colab_type": "code",
    "executionInfo": {
     "elapsed": 411,
     "status": "ok",
     "timestamp": 1585959380911,
     "user": {
      "displayName": "Jorge Diego Rodríguez Saltijeral",
      "photoUrl": "https://lh3.googleusercontent.com/a-/AOh14GitQ1uKQnmNjOuDRGDRvoiB9qzxcvA41AArtSsXqQ=s64",
      "userId": "16867045160486211904"
     },
     "user_tz": 360
    },
    "id": "7sztf21OfqqQ",
    "outputId": "85e8ff13-29e7-4c0d-d62f-ed962901a7a7"
   },
   "outputs": [
    {
     "name": "stdout",
     "output_type": "stream",
     "text": [
      "Drive already mounted at /content/gdrive; to attempt to forcibly remount, call drive.mount(\"/content/gdrive\", force_remount=True).\n"
     ]
    }
   ],
   "source": [
    "from google.colab import drive\n",
    "drive.mount('/content/gdrive')"
   ]
  },
  {
   "cell_type": "code",
   "execution_count": 18,
   "metadata": {
    "colab": {
     "base_uri": "https://localhost:8080/",
     "height": 34
    },
    "colab_type": "code",
    "executionInfo": {
     "elapsed": 1705,
     "status": "ok",
     "timestamp": 1585959439658,
     "user": {
      "displayName": "Jorge Diego Rodríguez Saltijeral",
      "photoUrl": "https://lh3.googleusercontent.com/a-/AOh14GitQ1uKQnmNjOuDRGDRvoiB9qzxcvA41AArtSsXqQ=s64",
      "userId": "16867045160486211904"
     },
     "user_tz": 360
    },
    "id": "osrDxlW5ikyI",
    "outputId": "87d5ad04-5369-486f-8bb9-9ba62f7f0d41"
   },
   "outputs": [
    {
     "name": "stdout",
     "output_type": "stream",
     "text": [
      "/content/gdrive/My Drive/Colab Notebooks/tomato/tomato_dataset\n"
     ]
    }
   ],
   "source": [
    "%cd '/content/gdrive/My Drive/Colab Notebooks/tomato/tomato_dataset'\n",
    "!ls"
   ]
  },
  {
   "cell_type": "code",
   "execution_count": 21,
   "metadata": {
    "colab": {
     "base_uri": "https://localhost:8080/",
     "height": 50
    },
    "colab_type": "code",
    "executionInfo": {
     "elapsed": 863,
     "status": "ok",
     "timestamp": 1585959563292,
     "user": {
      "displayName": "Jorge Diego Rodríguez Saltijeral",
      "photoUrl": "https://lh3.googleusercontent.com/a-/AOh14GitQ1uKQnmNjOuDRGDRvoiB9qzxcvA41AArtSsXqQ=s64",
      "userId": "16867045160486211904"
     },
     "user_tz": 360
    },
    "id": "beGO3VUtcFRg",
    "outputId": "3c4502d6-d3fb-4a16-a8ea-27a60cd63236"
   },
   "outputs": [
    {
     "name": "stdout",
     "output_type": "stream",
     "text": [
      "Found 7000 images belonging to 10 classes.\n",
      "Found 1500 images belonging to 10 classes.\n"
     ]
    }
   ],
   "source": [
    "train_datagen = ImageDataGenerator(rescale=1./255)\n",
    "validation_datagen = ImageDataGenerator(rescale=1./255)\n",
    "\n",
    "train_generator = train_datagen.flow_from_directory(\n",
    "    'train',\n",
    "    batch_size=25)\n",
    "validation_generator = validation_datagen.flow_from_directory(\n",
    "    'validation',\n",
    "    batch_size=25)"
   ]
  },
  {
   "cell_type": "code",
   "execution_count": 0,
   "metadata": {
    "colab": {},
    "colab_type": "code",
    "id": "8pX735I6ctWJ"
   },
   "outputs": [],
   "source": [
    "model = models.Sequential()\n",
    "model.add(layers.Conv2D(32, (3,3), activation='relu', input_shape=(256, 256, 3)))\n",
    "model.add(layers.MaxPooling2D((2,2)))\n",
    "model.add(layers.Conv2D(64, (3,3), activation='relu'))\n",
    "model.add(layers.MaxPooling2D((2,2)))\n",
    "model.add(layers.Conv2D(128, (3,3), activation='relu'))\n",
    "model.add(layers.MaxPooling2D((2,2)))\n",
    "model.add(layers.Conv2D(128, (3,3), activation='relu'))\n",
    "model.add(layers.MaxPooling2D((2,2)))\n",
    "model.add(layers.Flatten())\n",
    "model.add(layers.Dense(512, activation='relu'))\n",
    "model.add(layers.Dense(10, activation='softmax'))"
   ]
  },
  {
   "cell_type": "code",
   "execution_count": 24,
   "metadata": {
    "colab": {
     "base_uri": "https://localhost:8080/",
     "height": 521
    },
    "colab_type": "code",
    "executionInfo": {
     "elapsed": 417,
     "status": "ok",
     "timestamp": 1585959623935,
     "user": {
      "displayName": "Jorge Diego Rodríguez Saltijeral",
      "photoUrl": "https://lh3.googleusercontent.com/a-/AOh14GitQ1uKQnmNjOuDRGDRvoiB9qzxcvA41AArtSsXqQ=s64",
      "userId": "16867045160486211904"
     },
     "user_tz": 360
    },
    "id": "nj3s172DgEkO",
    "outputId": "dd429d04-1ea0-4f4a-e47d-933115d13e8d"
   },
   "outputs": [
    {
     "name": "stdout",
     "output_type": "stream",
     "text": [
      "Model: \"sequential\"\n",
      "_________________________________________________________________\n",
      "Layer (type)                 Output Shape              Param #   \n",
      "=================================================================\n",
      "conv2d (Conv2D)              (None, 254, 254, 32)      896       \n",
      "_________________________________________________________________\n",
      "max_pooling2d (MaxPooling2D) (None, 127, 127, 32)      0         \n",
      "_________________________________________________________________\n",
      "conv2d_1 (Conv2D)            (None, 125, 125, 64)      18496     \n",
      "_________________________________________________________________\n",
      "max_pooling2d_1 (MaxPooling2 (None, 62, 62, 64)        0         \n",
      "_________________________________________________________________\n",
      "conv2d_2 (Conv2D)            (None, 60, 60, 128)       73856     \n",
      "_________________________________________________________________\n",
      "max_pooling2d_2 (MaxPooling2 (None, 30, 30, 128)       0         \n",
      "_________________________________________________________________\n",
      "conv2d_3 (Conv2D)            (None, 28, 28, 128)       147584    \n",
      "_________________________________________________________________\n",
      "max_pooling2d_3 (MaxPooling2 (None, 14, 14, 128)       0         \n",
      "_________________________________________________________________\n",
      "flatten (Flatten)            (None, 25088)             0         \n",
      "_________________________________________________________________\n",
      "dense (Dense)                (None, 512)               12845568  \n",
      "_________________________________________________________________\n",
      "dense_1 (Dense)              (None, 10)                5130      \n",
      "=================================================================\n",
      "Total params: 13,091,530\n",
      "Trainable params: 13,091,530\n",
      "Non-trainable params: 0\n",
      "_________________________________________________________________\n"
     ]
    }
   ],
   "source": [
    "model.summary()"
   ]
  },
  {
   "cell_type": "code",
   "execution_count": 0,
   "metadata": {
    "colab": {},
    "colab_type": "code",
    "id": "LeqO7by_dGwo"
   },
   "outputs": [],
   "source": [
    "model.compile(optimizer='rmsprop',\n",
    "              loss='categorical_crossentropy',\n",
    "              metrics=['accuracy'])"
   ]
  },
  {
   "cell_type": "code",
   "execution_count": 0,
   "metadata": {
    "colab": {},
    "colab_type": "code",
    "id": "AkWc5YlUoh18"
   },
   "outputs": [],
   "source": [
    "callbacks_list = [\n",
    "  tf.keras.callbacks.ModelCheckpoint(\n",
    "    filepath='tomato.h5',\n",
    "    monitor='val_loss',\n",
    "    save_best_only=True,\n",
    "  ),\n",
    "  tf.keras.callbacks.ReduceLROnPlateau(\n",
    "    monitor='val_loss',\n",
    "    factor=0.1,\n",
    "    patience=10,\n",
    "  )\n",
    "]"
   ]
  },
  {
   "cell_type": "code",
   "execution_count": 30,
   "metadata": {
    "colab": {
     "base_uri": "https://localhost:8080/",
     "height": 1000
    },
    "colab_type": "code",
    "executionInfo": {
     "elapsed": 2596849,
     "status": "ok",
     "timestamp": 1585963925643,
     "user": {
      "displayName": "Jorge Diego Rodríguez Saltijeral",
      "photoUrl": "https://lh3.googleusercontent.com/a-/AOh14GitQ1uKQnmNjOuDRGDRvoiB9qzxcvA41AArtSsXqQ=s64",
      "userId": "16867045160486211904"
     },
     "user_tz": 360
    },
    "id": "Z9af7Xy5dD5X",
    "outputId": "d6df9767-1f00-4241-a0dc-3079188853df"
   },
   "outputs": [
    {
     "name": "stdout",
     "output_type": "stream",
     "text": [
      "Epoch 1/100\n",
      "28/28 [==============================] - 341s 12s/step - loss: 4.7046 - accuracy: 0.1514 - val_loss: 2.3123 - val_accuracy: 0.1200 - lr: 0.0010\n",
      "Epoch 2/100\n",
      "28/28 [==============================] - 316s 11s/step - loss: 2.3970 - accuracy: 0.2043 - val_loss: 2.2955 - val_accuracy: 0.0667 - lr: 0.0010\n",
      "Epoch 3/100\n",
      "28/28 [==============================] - 326s 12s/step - loss: 2.3648 - accuracy: 0.1814 - val_loss: 2.1223 - val_accuracy: 0.3400 - lr: 0.0010\n",
      "Epoch 4/100\n",
      "28/28 [==============================] - 336s 12s/step - loss: 2.2398 - accuracy: 0.2257 - val_loss: 1.9520 - val_accuracy: 0.2400 - lr: 0.0010\n",
      "Epoch 5/100\n",
      "28/28 [==============================] - 324s 12s/step - loss: 1.9600 - accuracy: 0.3371 - val_loss: 1.8175 - val_accuracy: 0.4133 - lr: 0.0010\n",
      "Epoch 6/100\n",
      "28/28 [==============================] - 325s 12s/step - loss: 1.8237 - accuracy: 0.3586 - val_loss: 1.7584 - val_accuracy: 0.3333 - lr: 0.0010\n",
      "Epoch 7/100\n",
      "28/28 [==============================] - 297s 11s/step - loss: 1.6432 - accuracy: 0.4286 - val_loss: 1.7641 - val_accuracy: 0.3667 - lr: 0.0010\n",
      "Epoch 8/100\n",
      "28/28 [==============================] - 4s 148ms/step - loss: 1.6665 - accuracy: 0.4800 - val_loss: 1.3686 - val_accuracy: 0.5067 - lr: 0.0010\n",
      "Epoch 9/100\n",
      "28/28 [==============================] - 3s 124ms/step - loss: 1.3406 - accuracy: 0.5357 - val_loss: 1.6442 - val_accuracy: 0.4467 - lr: 0.0010\n",
      "Epoch 10/100\n",
      "28/28 [==============================] - 3s 123ms/step - loss: 1.3789 - accuracy: 0.5586 - val_loss: 1.6840 - val_accuracy: 0.4800 - lr: 0.0010\n",
      "Epoch 11/100\n",
      "28/28 [==============================] - 4s 133ms/step - loss: 1.1861 - accuracy: 0.6014 - val_loss: 1.1313 - val_accuracy: 0.6067 - lr: 0.0010\n",
      "Epoch 12/100\n",
      "28/28 [==============================] - 4s 131ms/step - loss: 1.0951 - accuracy: 0.6286 - val_loss: 1.1303 - val_accuracy: 0.5800 - lr: 0.0010\n",
      "Epoch 13/100\n",
      "28/28 [==============================] - 3s 123ms/step - loss: 1.1258 - accuracy: 0.6357 - val_loss: 1.1508 - val_accuracy: 0.6333 - lr: 0.0010\n",
      "Epoch 14/100\n",
      "28/28 [==============================] - 4s 142ms/step - loss: 1.0595 - accuracy: 0.6471 - val_loss: 1.0743 - val_accuracy: 0.5800 - lr: 0.0010\n",
      "Epoch 15/100\n",
      "28/28 [==============================] - 3s 125ms/step - loss: 1.0631 - accuracy: 0.6386 - val_loss: 1.6519 - val_accuracy: 0.5133 - lr: 0.0010\n",
      "Epoch 16/100\n",
      "28/28 [==============================] - 4s 133ms/step - loss: 1.0575 - accuracy: 0.6429 - val_loss: 0.9674 - val_accuracy: 0.6667 - lr: 0.0010\n",
      "Epoch 17/100\n",
      "28/28 [==============================] - 4s 134ms/step - loss: 0.8066 - accuracy: 0.7200 - val_loss: 0.9383 - val_accuracy: 0.7067 - lr: 0.0010\n",
      "Epoch 18/100\n",
      "28/28 [==============================] - 3s 122ms/step - loss: 0.8101 - accuracy: 0.7400 - val_loss: 0.9583 - val_accuracy: 0.6733 - lr: 0.0010\n",
      "Epoch 19/100\n",
      "28/28 [==============================] - 4s 131ms/step - loss: 0.8007 - accuracy: 0.7471 - val_loss: 0.8457 - val_accuracy: 0.7333 - lr: 0.0010\n",
      "Epoch 20/100\n",
      "28/28 [==============================] - 3s 123ms/step - loss: 0.6105 - accuracy: 0.7914 - val_loss: 0.8973 - val_accuracy: 0.7267 - lr: 0.0010\n",
      "Epoch 21/100\n",
      "28/28 [==============================] - 4s 134ms/step - loss: 0.7100 - accuracy: 0.7714 - val_loss: 0.8006 - val_accuracy: 0.7067 - lr: 0.0010\n",
      "Epoch 22/100\n",
      "28/28 [==============================] - 3s 122ms/step - loss: 0.7015 - accuracy: 0.7657 - val_loss: 0.9019 - val_accuracy: 0.6800 - lr: 0.0010\n",
      "Epoch 23/100\n",
      "28/28 [==============================] - 4s 132ms/step - loss: 0.6326 - accuracy: 0.7971 - val_loss: 0.5841 - val_accuracy: 0.7933 - lr: 0.0010\n",
      "Epoch 24/100\n",
      "28/28 [==============================] - 4s 132ms/step - loss: 0.6158 - accuracy: 0.7843 - val_loss: 0.4546 - val_accuracy: 0.8200 - lr: 0.0010\n",
      "Epoch 25/100\n",
      "28/28 [==============================] - 4s 126ms/step - loss: 0.7003 - accuracy: 0.7800 - val_loss: 0.7228 - val_accuracy: 0.7667 - lr: 0.0010\n",
      "Epoch 26/100\n",
      "28/28 [==============================] - 3s 118ms/step - loss: 0.6429 - accuracy: 0.7914 - val_loss: 0.6703 - val_accuracy: 0.7733 - lr: 0.0010\n",
      "Epoch 27/100\n",
      "28/28 [==============================] - 4s 125ms/step - loss: 0.5848 - accuracy: 0.8000 - val_loss: 0.5036 - val_accuracy: 0.8333 - lr: 0.0010\n",
      "Epoch 28/100\n",
      "28/28 [==============================] - 4s 148ms/step - loss: 0.6093 - accuracy: 0.8329 - val_loss: 0.3475 - val_accuracy: 0.8800 - lr: 0.0010\n",
      "Epoch 29/100\n",
      "28/28 [==============================] - 4s 127ms/step - loss: 0.3842 - accuracy: 0.8571 - val_loss: 0.6182 - val_accuracy: 0.8200 - lr: 0.0010\n",
      "Epoch 30/100\n",
      "28/28 [==============================] - 3s 123ms/step - loss: 0.4799 - accuracy: 0.8443 - val_loss: 0.9977 - val_accuracy: 0.7067 - lr: 0.0010\n",
      "Epoch 31/100\n",
      "28/28 [==============================] - 4s 127ms/step - loss: 0.5359 - accuracy: 0.8400 - val_loss: 1.0505 - val_accuracy: 0.7000 - lr: 0.0010\n",
      "Epoch 32/100\n",
      "28/28 [==============================] - 3s 118ms/step - loss: 0.4041 - accuracy: 0.8514 - val_loss: 0.5842 - val_accuracy: 0.7867 - lr: 0.0010\n",
      "Epoch 33/100\n",
      "28/28 [==============================] - 3s 119ms/step - loss: 0.5134 - accuracy: 0.8386 - val_loss: 0.6030 - val_accuracy: 0.7867 - lr: 0.0010\n",
      "Epoch 34/100\n",
      "28/28 [==============================] - 3s 117ms/step - loss: 0.3498 - accuracy: 0.8943 - val_loss: 0.5777 - val_accuracy: 0.8133 - lr: 0.0010\n",
      "Epoch 35/100\n",
      "28/28 [==============================] - 3s 118ms/step - loss: 0.4175 - accuracy: 0.8743 - val_loss: 0.5372 - val_accuracy: 0.8200 - lr: 0.0010\n",
      "Epoch 36/100\n",
      "28/28 [==============================] - 3s 119ms/step - loss: 0.4823 - accuracy: 0.8671 - val_loss: 0.6964 - val_accuracy: 0.8000 - lr: 0.0010\n",
      "Epoch 37/100\n",
      "28/28 [==============================] - 3s 119ms/step - loss: 0.4283 - accuracy: 0.8614 - val_loss: 0.8204 - val_accuracy: 0.6933 - lr: 0.0010\n",
      "Epoch 38/100\n",
      "28/28 [==============================] - 3s 118ms/step - loss: 0.2887 - accuracy: 0.9071 - val_loss: 0.3485 - val_accuracy: 0.8933 - lr: 0.0010\n",
      "Epoch 39/100\n",
      "28/28 [==============================] - 3s 116ms/step - loss: 0.1139 - accuracy: 0.9643 - val_loss: 0.4652 - val_accuracy: 0.8667 - lr: 1.0000e-04\n",
      "Epoch 40/100\n",
      "28/28 [==============================] - 3s 120ms/step - loss: 0.1260 - accuracy: 0.9729 - val_loss: 0.4253 - val_accuracy: 0.8733 - lr: 1.0000e-04\n",
      "Epoch 41/100\n",
      "28/28 [==============================] - 3s 118ms/step - loss: 0.0881 - accuracy: 0.9714 - val_loss: 0.3579 - val_accuracy: 0.8333 - lr: 1.0000e-04\n",
      "Epoch 42/100\n",
      "28/28 [==============================] - 3s 117ms/step - loss: 0.0958 - accuracy: 0.9629 - val_loss: 0.5194 - val_accuracy: 0.8333 - lr: 1.0000e-04\n",
      "Epoch 43/100\n",
      "28/28 [==============================] - 3s 116ms/step - loss: 0.0551 - accuracy: 0.9829 - val_loss: 0.3576 - val_accuracy: 0.8867 - lr: 1.0000e-04\n",
      "Epoch 44/100\n",
      "28/28 [==============================] - 3s 116ms/step - loss: 0.0752 - accuracy: 0.9757 - val_loss: 0.4407 - val_accuracy: 0.8733 - lr: 1.0000e-04\n",
      "Epoch 45/100\n",
      "28/28 [==============================] - 3s 118ms/step - loss: 0.0644 - accuracy: 0.9771 - val_loss: 0.4660 - val_accuracy: 0.8733 - lr: 1.0000e-04\n",
      "Epoch 46/100\n",
      "28/28 [==============================] - 4s 147ms/step - loss: 0.0716 - accuracy: 0.9800 - val_loss: 0.2701 - val_accuracy: 0.8933 - lr: 1.0000e-04\n",
      "Epoch 47/100\n",
      "28/28 [==============================] - 3s 117ms/step - loss: 0.0718 - accuracy: 0.9771 - val_loss: 0.4858 - val_accuracy: 0.8800 - lr: 1.0000e-04\n",
      "Epoch 48/100\n",
      "28/28 [==============================] - 3s 116ms/step - loss: 0.0524 - accuracy: 0.9857 - val_loss: 0.4677 - val_accuracy: 0.8667 - lr: 1.0000e-04\n",
      "Epoch 49/100\n",
      "28/28 [==============================] - 3s 117ms/step - loss: 0.0524 - accuracy: 0.9814 - val_loss: 0.3215 - val_accuracy: 0.9067 - lr: 1.0000e-04\n",
      "Epoch 50/100\n",
      "28/28 [==============================] - 3s 124ms/step - loss: 0.0333 - accuracy: 0.9943 - val_loss: 0.3972 - val_accuracy: 0.8867 - lr: 1.0000e-04\n",
      "Epoch 51/100\n",
      "28/28 [==============================] - 3s 120ms/step - loss: 0.0233 - accuracy: 0.9943 - val_loss: 0.4411 - val_accuracy: 0.8800 - lr: 1.0000e-04\n",
      "Epoch 52/100\n",
      "28/28 [==============================] - 3s 118ms/step - loss: 0.0375 - accuracy: 0.9857 - val_loss: 0.3983 - val_accuracy: 0.8600 - lr: 1.0000e-04\n",
      "Epoch 53/100\n",
      "28/28 [==============================] - 3s 117ms/step - loss: 0.0951 - accuracy: 0.9771 - val_loss: 0.4711 - val_accuracy: 0.8733 - lr: 1.0000e-04\n",
      "Epoch 54/100\n",
      "28/28 [==============================] - 3s 116ms/step - loss: 0.0491 - accuracy: 0.9857 - val_loss: 0.3477 - val_accuracy: 0.8733 - lr: 1.0000e-04\n",
      "Epoch 55/100\n",
      "28/28 [==============================] - 4s 145ms/step - loss: 0.0257 - accuracy: 0.9914 - val_loss: 0.2455 - val_accuracy: 0.9133 - lr: 1.0000e-04\n",
      "Epoch 56/100\n",
      "28/28 [==============================] - 3s 118ms/step - loss: 0.0369 - accuracy: 0.9857 - val_loss: 0.3122 - val_accuracy: 0.9133 - lr: 1.0000e-04\n",
      "Epoch 57/100\n",
      "28/28 [==============================] - 3s 117ms/step - loss: 0.0620 - accuracy: 0.9800 - val_loss: 0.3729 - val_accuracy: 0.9200 - lr: 1.0000e-04\n",
      "Epoch 58/100\n",
      "28/28 [==============================] - 3s 119ms/step - loss: 0.0144 - accuracy: 0.9971 - val_loss: 0.6140 - val_accuracy: 0.8400 - lr: 1.0000e-04\n",
      "Epoch 59/100\n",
      "28/28 [==============================] - 3s 124ms/step - loss: 0.0292 - accuracy: 0.9914 - val_loss: 0.6454 - val_accuracy: 0.8533 - lr: 1.0000e-04\n",
      "Epoch 60/100\n",
      "28/28 [==============================] - 3s 118ms/step - loss: 0.0356 - accuracy: 0.9857 - val_loss: 0.5204 - val_accuracy: 0.8800 - lr: 1.0000e-04\n",
      "Epoch 61/100\n",
      "28/28 [==============================] - 3s 118ms/step - loss: 0.0197 - accuracy: 0.9943 - val_loss: 0.5833 - val_accuracy: 0.8800 - lr: 1.0000e-04\n",
      "Epoch 62/100\n",
      "28/28 [==============================] - 3s 117ms/step - loss: 0.0668 - accuracy: 0.9900 - val_loss: 0.3608 - val_accuracy: 0.8800 - lr: 1.0000e-04\n",
      "Epoch 63/100\n",
      "28/28 [==============================] - 3s 115ms/step - loss: 0.0339 - accuracy: 0.9871 - val_loss: 0.3963 - val_accuracy: 0.8867 - lr: 1.0000e-04\n",
      "Epoch 64/100\n",
      "28/28 [==============================] - 3s 117ms/step - loss: 0.0177 - accuracy: 0.9957 - val_loss: 0.3464 - val_accuracy: 0.9133 - lr: 1.0000e-04\n",
      "Epoch 65/100\n",
      "28/28 [==============================] - 3s 116ms/step - loss: 0.0292 - accuracy: 0.9886 - val_loss: 0.4961 - val_accuracy: 0.8533 - lr: 1.0000e-04\n",
      "Epoch 66/100\n",
      "28/28 [==============================] - 3s 115ms/step - loss: 0.0199 - accuracy: 0.9943 - val_loss: 0.3450 - val_accuracy: 0.9133 - lr: 1.0000e-05\n",
      "Epoch 67/100\n",
      "28/28 [==============================] - 3s 115ms/step - loss: 0.0305 - accuracy: 0.9943 - val_loss: 0.5291 - val_accuracy: 0.8933 - lr: 1.0000e-05\n",
      "Epoch 68/100\n",
      "28/28 [==============================] - 3s 118ms/step - loss: 0.0103 - accuracy: 0.9986 - val_loss: 0.7645 - val_accuracy: 0.8467 - lr: 1.0000e-05\n",
      "Epoch 69/100\n",
      "28/28 [==============================] - 3s 115ms/step - loss: 0.0157 - accuracy: 0.9943 - val_loss: 0.3613 - val_accuracy: 0.8867 - lr: 1.0000e-05\n",
      "Epoch 70/100\n",
      "28/28 [==============================] - 3s 116ms/step - loss: 0.0172 - accuracy: 0.9957 - val_loss: 0.4337 - val_accuracy: 0.8667 - lr: 1.0000e-05\n",
      "Epoch 71/100\n",
      "28/28 [==============================] - 3s 115ms/step - loss: 0.0142 - accuracy: 0.9957 - val_loss: 0.3546 - val_accuracy: 0.9000 - lr: 1.0000e-05\n",
      "Epoch 72/100\n",
      "28/28 [==============================] - 3s 117ms/step - loss: 0.0149 - accuracy: 0.9986 - val_loss: 0.5403 - val_accuracy: 0.8733 - lr: 1.0000e-05\n",
      "Epoch 73/100\n",
      "28/28 [==============================] - 3s 114ms/step - loss: 0.0124 - accuracy: 0.9957 - val_loss: 0.4683 - val_accuracy: 0.9000 - lr: 1.0000e-05\n",
      "Epoch 74/100\n",
      "28/28 [==============================] - 3s 116ms/step - loss: 0.0459 - accuracy: 0.9929 - val_loss: 0.3153 - val_accuracy: 0.8800 - lr: 1.0000e-05\n",
      "Epoch 75/100\n",
      "28/28 [==============================] - 3s 115ms/step - loss: 0.0106 - accuracy: 0.9986 - val_loss: 0.4182 - val_accuracy: 0.9000 - lr: 1.0000e-05\n",
      "Epoch 76/100\n",
      "28/28 [==============================] - 3s 117ms/step - loss: 0.0089 - accuracy: 0.9971 - val_loss: 0.6232 - val_accuracy: 0.8533 - lr: 1.0000e-06\n",
      "Epoch 77/100\n",
      "28/28 [==============================] - 3s 116ms/step - loss: 0.0074 - accuracy: 1.0000 - val_loss: 0.4944 - val_accuracy: 0.8867 - lr: 1.0000e-06\n",
      "Epoch 78/100\n",
      "28/28 [==============================] - 3s 115ms/step - loss: 0.0151 - accuracy: 0.9971 - val_loss: 0.3378 - val_accuracy: 0.8867 - lr: 1.0000e-06\n",
      "Epoch 79/100\n",
      "28/28 [==============================] - 3s 116ms/step - loss: 0.0065 - accuracy: 0.9986 - val_loss: 0.7901 - val_accuracy: 0.8533 - lr: 1.0000e-06\n",
      "Epoch 80/100\n",
      "28/28 [==============================] - 3s 115ms/step - loss: 0.0151 - accuracy: 0.9971 - val_loss: 0.4776 - val_accuracy: 0.8333 - lr: 1.0000e-06\n",
      "Epoch 81/100\n",
      "28/28 [==============================] - 3s 114ms/step - loss: 0.0084 - accuracy: 0.9971 - val_loss: 0.4559 - val_accuracy: 0.9000 - lr: 1.0000e-06\n",
      "Epoch 82/100\n",
      "28/28 [==============================] - 3s 115ms/step - loss: 0.0191 - accuracy: 0.9943 - val_loss: 0.3646 - val_accuracy: 0.9000 - lr: 1.0000e-06\n",
      "Epoch 83/100\n",
      "28/28 [==============================] - 3s 116ms/step - loss: 0.0428 - accuracy: 0.9943 - val_loss: 0.2816 - val_accuracy: 0.9333 - lr: 1.0000e-06\n",
      "Epoch 84/100\n",
      "28/28 [==============================] - 3s 117ms/step - loss: 0.0093 - accuracy: 0.9971 - val_loss: 0.3590 - val_accuracy: 0.8867 - lr: 1.0000e-06\n",
      "Epoch 85/100\n",
      "28/28 [==============================] - 3s 116ms/step - loss: 0.0098 - accuracy: 0.9957 - val_loss: 0.2945 - val_accuracy: 0.9200 - lr: 1.0000e-06\n",
      "Epoch 86/100\n",
      "28/28 [==============================] - 3s 113ms/step - loss: 0.0047 - accuracy: 1.0000 - val_loss: 0.4565 - val_accuracy: 0.8600 - lr: 1.0000e-07\n",
      "Epoch 87/100\n",
      "28/28 [==============================] - 3s 114ms/step - loss: 0.0078 - accuracy: 0.9986 - val_loss: 0.6448 - val_accuracy: 0.8600 - lr: 1.0000e-07\n",
      "Epoch 88/100\n",
      "28/28 [==============================] - 3s 112ms/step - loss: 0.0403 - accuracy: 0.9971 - val_loss: 0.4475 - val_accuracy: 0.9200 - lr: 1.0000e-07\n",
      "Epoch 89/100\n",
      "28/28 [==============================] - 3s 113ms/step - loss: 0.0088 - accuracy: 0.9986 - val_loss: 0.4529 - val_accuracy: 0.9067 - lr: 1.0000e-07\n",
      "Epoch 90/100\n",
      "28/28 [==============================] - 3s 113ms/step - loss: 0.0122 - accuracy: 0.9971 - val_loss: 0.4141 - val_accuracy: 0.8933 - lr: 1.0000e-07\n",
      "Epoch 91/100\n",
      "28/28 [==============================] - 3s 114ms/step - loss: 0.0086 - accuracy: 0.9971 - val_loss: 0.5307 - val_accuracy: 0.8600 - lr: 1.0000e-07\n",
      "Epoch 92/100\n",
      "28/28 [==============================] - 3s 114ms/step - loss: 0.0136 - accuracy: 0.9943 - val_loss: 0.4109 - val_accuracy: 0.8600 - lr: 1.0000e-07\n",
      "Epoch 93/100\n",
      "28/28 [==============================] - 3s 116ms/step - loss: 0.0070 - accuracy: 1.0000 - val_loss: 0.5132 - val_accuracy: 0.8400 - lr: 1.0000e-07\n",
      "Epoch 94/100\n",
      "28/28 [==============================] - 3s 115ms/step - loss: 0.0082 - accuracy: 0.9957 - val_loss: 0.6682 - val_accuracy: 0.8667 - lr: 1.0000e-07\n",
      "Epoch 95/100\n",
      "28/28 [==============================] - 3s 113ms/step - loss: 0.0071 - accuracy: 1.0000 - val_loss: 0.3109 - val_accuracy: 0.9267 - lr: 1.0000e-07\n",
      "Epoch 96/100\n",
      "28/28 [==============================] - 3s 114ms/step - loss: 0.0177 - accuracy: 0.9943 - val_loss: 0.3167 - val_accuracy: 0.9133 - lr: 1.0000e-08\n",
      "Epoch 97/100\n",
      "28/28 [==============================] - 3s 114ms/step - loss: 0.0130 - accuracy: 0.9971 - val_loss: 0.5148 - val_accuracy: 0.8600 - lr: 1.0000e-08\n",
      "Epoch 98/100\n",
      "28/28 [==============================] - 3s 114ms/step - loss: 0.0183 - accuracy: 0.9957 - val_loss: 0.5229 - val_accuracy: 0.8533 - lr: 1.0000e-08\n",
      "Epoch 99/100\n",
      "28/28 [==============================] - 3s 112ms/step - loss: 0.0150 - accuracy: 0.9957 - val_loss: 0.4016 - val_accuracy: 0.8667 - lr: 1.0000e-08\n",
      "Epoch 100/100\n",
      "28/28 [==============================] - 3s 116ms/step - loss: 0.0065 - accuracy: 1.0000 - val_loss: 0.4441 - val_accuracy: 0.9000 - lr: 1.0000e-08\n"
     ]
    }
   ],
   "source": [
    "history = model.fit(\n",
    "        train_generator,\n",
    "        steps_per_epoch=28,\n",
    "        epochs=100,\n",
    "        callbacks=callbacks_list,\n",
    "        validation_data=validation_generator,\n",
    "        validation_steps=6)"
   ]
  },
  {
   "cell_type": "code",
   "execution_count": 31,
   "metadata": {
    "colab": {
     "base_uri": "https://localhost:8080/",
     "height": 545
    },
    "colab_type": "code",
    "executionInfo": {
     "elapsed": 633,
     "status": "ok",
     "timestamp": 1585963926300,
     "user": {
      "displayName": "Jorge Diego Rodríguez Saltijeral",
      "photoUrl": "https://lh3.googleusercontent.com/a-/AOh14GitQ1uKQnmNjOuDRGDRvoiB9qzxcvA41AArtSsXqQ=s64",
      "userId": "16867045160486211904"
     },
     "user_tz": 360
    },
    "id": "zHPR7E3JfEvZ",
    "outputId": "54c65c48-a7fd-445e-cc7c-063d3f805cc8"
   },
   "outputs": [
    {
     "data": {
      "image/png": "[encoded data removed]",
      "text/plain": [
       "<Figure size 432x288 with 1 Axes>"
      ]
     },
     "metadata": {
      "tags": []
     },
     "output_type": "display_data"
    },
    {
     "data": {
      "image/png": "[encoded data removed]",
      "text/plain": [
       "<Figure size 432x288 with 1 Axes>"
      ]
     },
     "metadata": {
      "tags": []
     },
     "output_type": "display_data"
    }
   ],
   "source": [
    "acc = history.history['accuracy']\n",
    "val_acc = history.history['val_accuracy']\n",
    "loss = history.history['loss']\n",
    "val_loss = history.history['val_loss']\n",
    "epochs = range(1, len(acc) + 1)\n",
    "plt.plot(epochs, acc, 'bo', label='Training acc')\n",
    "plt.plot(epochs, val_acc, 'b', label='Validation acc')\n",
    "plt.title('Training and validation accuracy')\n",
    "plt.legend()\n",
    "plt.figure()\n",
    "plt.plot(epochs, loss, 'bo', label='Training loss')\n",
    "plt.plot(epochs, val_loss, 'b', label='Validation loss')\n",
    "plt.title('Training and validation loss')\n",
    "plt.legend()\n",
    "plt.show()"
   ]
  },
  {
   "cell_type": "code",
   "execution_count": 0,
   "metadata": {
    "colab": {},
    "colab_type": "code",
    "id": "Pax6nAxfmzmN"
   },
   "outputs": [],
   "source": []
  }
 ],
 "metadata": {
  "colab": {
   "authorship_tag": "ABX9TyPxl1OJapR5zjlDMA80rlZD",
   "collapsed_sections": [],
   "name": "tomato_conv.ipynb",
   "provenance": []
  },
  "kernelspec": {
   "display_name": "Python 3",
   "language": "python",
   "name": "python3"
  },
  "language_info": {
   "codemirror_mode": {
    "name": "ipython",
    "version": 3
   },
   "file_extension": ".py",
   "mimetype": "text/x-python",
   "name": "python",
   "nbconvert_exporter": "python",
   "pygments_lexer": "ipython3",
   "version": "3.8.2"
  }
 },
 "nbformat": 4,
 "nbformat_minor": 1
}
